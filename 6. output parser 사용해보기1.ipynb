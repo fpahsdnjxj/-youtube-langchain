{
 "cells": [
  {
   "cell_type": "code",
   "execution_count": 30,
   "id": "1e61f98e",
   "metadata": {},
   "outputs": [],
   "source": [
    "from langchain_openai import ChatOpenAI\n",
    "from langchain_core.prompts import PromptTemplate\n",
    "from langchain.output_parsers import CommaSeparatedListOutputParser\n",
    "from langchain.output_parsers import DatetimeOutputParser\n",
    "import pandas as pd\n",
    "from langchain.output_parsers import PandasDataFrameOutputParser\n",
    "from enum import Enum\n",
    "from langchain.output_parsers.enum import EnumOutputParser\n",
    "\n"
   ]
  },
  {
   "cell_type": "markdown",
   "id": "faba61d5",
   "metadata": {},
   "source": [
    "## csv output parser"
   ]
  },
  {
   "cell_type": "code",
   "execution_count": 3,
   "id": "6305e671",
   "metadata": {},
   "outputs": [
    {
     "data": {
      "text/plain": [
       "'Your response should be a list of comma separated values, eg: `foo, bar, baz` or `foo,bar,baz`'"
      ]
     },
     "execution_count": 3,
     "metadata": {},
     "output_type": "execute_result"
    }
   ],
   "source": [
    "parser = CommaSeparatedListOutputParser()\n",
    "parser.get_format_instructions()"
   ]
  },
  {
   "cell_type": "code",
   "execution_count": 11,
   "id": "e4b2a678",
   "metadata": {},
   "outputs": [],
   "source": [
    "model=ChatOpenAI()\n",
    "prompt = PromptTemplate(\n",
    "    template=\"List five {subject}.\\n{format_instructions}\",\n",
    "    input_variables=[\"subject\"],\n",
    "    partial_variables={\"format_instructions\": parser.get_format_instructions()},\n",
    ")\n",
    "chain = prompt | model | parser\n",
    "output=chain.invoke({\"subject\": \"cake\"})"
   ]
  },
  {
   "cell_type": "code",
   "execution_count": 12,
   "id": "7e1bce9d",
   "metadata": {},
   "outputs": [
    {
     "name": "stdout",
     "output_type": "stream",
     "text": [
      "['Chocolate cake', 'Red velvet cake', 'Carrot cake', 'Lemon cake', 'Vanilla cake']\n",
      "<class 'list'>\n"
     ]
    }
   ],
   "source": [
    "print(output)\n",
    "print(type(output))"
   ]
  },
  {
   "cell_type": "markdown",
   "id": "631fd234",
   "metadata": {},
   "source": [
    "## datetime output parser"
   ]
  },
  {
   "cell_type": "code",
   "execution_count": 14,
   "id": "f21ab818",
   "metadata": {},
   "outputs": [
    {
     "data": {
      "text/plain": [
       "\"Write a datetime string that matches the following pattern: '%Y-%m-%dT%H:%M:%S.%fZ'.\\n\\nExamples: 0136-02-20T04:36:41.521405Z, 0138-11-15T00:39:48.859226Z, 0866-06-07T11:37:52.729328Z\\n\\nReturn ONLY this string, no other words!\""
      ]
     },
     "execution_count": 14,
     "metadata": {},
     "output_type": "execute_result"
    }
   ],
   "source": [
    "parser = DatetimeOutputParser()\n",
    "parser.get_format_instructions()"
   ]
  },
  {
   "cell_type": "code",
   "execution_count": 15,
   "id": "afa7080d",
   "metadata": {},
   "outputs": [],
   "source": [
    "parser = DatetimeOutputParser()\n",
    "prompt = PromptTemplate(\n",
    "    template=\"Answer {query}.\\n{format_instructions}\",\n",
    "    input_variables=[\"query\"],\n",
    "    partial_variables={\"format_instructions\": parser.get_format_instructions()},\n",
    ")\n",
    "chain = prompt | model | parser\n",
    "output=chain.invoke({\"query\": \"when is korean independence day?\"})"
   ]
  },
  {
   "cell_type": "code",
   "execution_count": 17,
   "id": "e770a96f",
   "metadata": {},
   "outputs": [
    {
     "name": "stdout",
     "output_type": "stream",
     "text": [
      "1945-08-15 00:00:00\n",
      "<class 'datetime.datetime'>\n"
     ]
    }
   ],
   "source": [
    "print(output)\n",
    "print(type(output))"
   ]
  },
  {
   "cell_type": "markdown",
   "id": "cec51938",
   "metadata": {},
   "source": [
    "## pandas dataframe parser"
   ]
  },
  {
   "cell_type": "code",
   "execution_count": 25,
   "id": "b93b3ab3",
   "metadata": {},
   "outputs": [],
   "source": [
    "df = pd.DataFrame(\n",
    "    {\n",
    "        \"customer_id\": [1, 2, 3, 4],\n",
    "        \"customer_name\": [\"lisa\", \"jenny\", \"jisoo\", \"rose\"],\n",
    "        \"country\": [\"thailand\", \"korea\", \"korea\", \"newzealand\"],\n",
    "    }\n",
    ")\n",
    "\n",
    "parser = PandasDataFrameOutputParser(dataframe=df)\n",
    "\n",
    "prompt = PromptTemplate(\n",
    "    template=\"Answer the user query.\\n{format_instructions}\\n{query}\\n\",\n",
    "    input_variables=[\"query\"],\n",
    "    partial_variables={\"format_instructions\": parser.get_format_instructions()},\n",
    ")\n",
    "chain = prompt | model | parser\n",
    "\n",
    "df_query = \"Retrieve the first row.\"\n",
    "parser_output = chain.invoke({\"query\": df_query})"
   ]
  },
  {
   "cell_type": "code",
   "execution_count": 26,
   "id": "2be392f8",
   "metadata": {},
   "outputs": [
    {
     "name": "stdout",
     "output_type": "stream",
     "text": [
      "{'0': customer_id             1\n",
      "customer_name        lisa\n",
      "country          thailand\n",
      "Name: 0, dtype: object}\n",
      "<class 'dict'>\n"
     ]
    }
   ],
   "source": [
    "print(parser_output)\n",
    "print(type(parser_output))"
   ]
  },
  {
   "cell_type": "markdown",
   "id": "197ba38a",
   "metadata": {},
   "source": [
    "## enum output parser"
   ]
  },
  {
   "cell_type": "code",
   "execution_count": 37,
   "id": "100b8177",
   "metadata": {},
   "outputs": [],
   "source": [
    "class Season(Enum):\n",
    "    Spring = \"spring\"\n",
    "    Summer = \"summer\"\n",
    "    Fall = \"fall\"\n",
    "    Winter=\"winter\"\n",
    "    \n",
    "parser = EnumOutputParser(enum=Season)\n",
    "\n",
    "prompt = PromptTemplate(\n",
    "    template=\"Answer {query}.\\n{format_instructions}\",\n",
    "    input_variables=[\"query\"],\n",
    "    partial_variables={\"format_instructions\": parser.get_format_instructions()},\n",
    ")\n",
    "chain = prompt | model | parser\n",
    "output=chain.invoke({\"query\": \"What season do roses bloom?\"})"
   ]
  },
  {
   "cell_type": "code",
   "execution_count": 38,
   "id": "495e8edd",
   "metadata": {},
   "outputs": [
    {
     "name": "stdout",
     "output_type": "stream",
     "text": [
      "Season.Summer\n",
      "<class 'enum.EnumType'>\n"
     ]
    }
   ],
   "source": [
    "print(output)\n",
    "print(type(type(output)))"
   ]
  },
  {
   "cell_type": "code",
   "execution_count": 36,
   "id": "cea109ad",
   "metadata": {},
   "outputs": [
    {
     "data": {
      "text/plain": [
       "'Select one of the following options: spring, summer, fall, winter'"
      ]
     },
     "execution_count": 36,
     "metadata": {},
     "output_type": "execute_result"
    }
   ],
   "source": [
    "parser.get_format_instructions()"
   ]
  },
  {
   "cell_type": "code",
   "execution_count": null,
   "id": "9d3ff99b",
   "metadata": {},
   "outputs": [],
   "source": []
  }
 ],
 "metadata": {
  "kernelspec": {
   "display_name": "Python 3 (ipykernel)",
   "language": "python",
   "name": "python3"
  },
  "language_info": {
   "codemirror_mode": {
    "name": "ipython",
    "version": 3
   },
   "file_extension": ".py",
   "mimetype": "text/x-python",
   "name": "python",
   "nbconvert_exporter": "python",
   "pygments_lexer": "ipython3",
   "version": "3.11.4"
  }
 },
 "nbformat": 4,
 "nbformat_minor": 5
}
