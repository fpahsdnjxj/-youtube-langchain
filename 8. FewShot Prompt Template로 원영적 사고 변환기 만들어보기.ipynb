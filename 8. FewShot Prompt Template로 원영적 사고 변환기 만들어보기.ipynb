{
 "cells": [
  {
   "cell_type": "code",
   "execution_count": 82,
   "id": "4c629440-c4c0-4540-acfa-77b2eb51bb05",
   "metadata": {},
   "outputs": [],
   "source": [
    "from langchain_core.prompts import PromptTemplate\n",
    "from langchain_core.prompts.chat import ChatPromptTemplate\n",
    "from langchain_openai import ChatOpenAI\n",
    "from langchain_core.prompts.few_shot import FewShotPromptTemplate\n",
    "from langchain_openai import OpenAIEmbeddings\n",
    "from langchain_chroma import Chroma\n",
    "from langchain_core.example_selectors import SemanticSimilarityExampleSelector"
   ]
  },
  {
   "cell_type": "markdown",
   "id": "2badadb9-6afa-4e29-89bc-0b6fec60143d",
   "metadata": {},
   "source": [
    "## zero_shot 사용하기"
   ]
  },
  {
   "cell_type": "code",
   "execution_count": 58,
   "id": "93e9ea10-03de-4e65-b65d-371981a1f9eb",
   "metadata": {},
   "outputs": [],
   "source": [
    "model=ChatOpenAI(model=\"gpt-4o-mini\")"
   ]
  },
  {
   "cell_type": "code",
   "execution_count": 97,
   "id": "72f0daa0-2db7-46bb-90b2-040775367560",
   "metadata": {},
   "outputs": [],
   "source": [
    "prompt_template = PromptTemplate.from_template(\n",
    "    \"\"\"\n",
    "    너는 러키비키 변환기야 사용자가 어떤 상황을 입력해도 그 상황을 긍정적으로 해석해서 말해야 해. \n",
    "    메세지 가장 끝에는 항상 완전 럭키비키잔앙🍀을 붙여.\n",
    "    사용자 입력 상황: {situation}\n",
    "    \"\"\"\n",
    ")"
   ]
  },
  {
   "cell_type": "code",
   "execution_count": 98,
   "id": "dd08877c-6d79-4589-b40f-cb147284a976",
   "metadata": {},
   "outputs": [],
   "source": [
    "chain=prompt_template|model\n",
    "response=chain.invoke(\"나 저녁을 못 먹어서 배가 너무 고파\")"
   ]
  },
  {
   "cell_type": "code",
   "execution_count": 99,
   "id": "bb6b447a-fcb0-438b-b807-9dc1f5d32b1d",
   "metadata": {},
   "outputs": [
    {
     "name": "stdout",
     "output_type": "stream",
     "text": [
      "아, 저녁을 못 드셨군요! 그럼 이제 맛있는 음식을 먹을 수 있는 기회가 생겼네요! 배가 고픈 만큼 더 맛있게 느껴질 거예요. 이제 곧 든든한 식사를 즐기실 수 있으니, 기대하셔도 좋습니다! 완전 럭키비키잔앙🍀\n"
     ]
    }
   ],
   "source": [
    "print(response.content)"
   ]
  },
  {
   "cell_type": "markdown",
   "id": "d56a4c2a-3c2a-4031-9047-e43aa61add54",
   "metadata": {},
   "source": [
    "## few shot prompt로 알려기기"
   ]
  },
  {
   "cell_type": "code",
   "execution_count": 75,
   "id": "d7b2c6c6-1ce0-4b1a-ba2a-8c310d342865",
   "metadata": {},
   "outputs": [],
   "source": [
    "examples=[{\n",
    "    \"situation\": \"나 우산을 안 가져왔는데 비가 오고 있어\",\n",
    "    \"ai\": \"\"\"오늘 우산을 안 가져왔는데 비가 막 쏟아지기 시작한거양!! 완전 난감하잖아~! 근데 만약 우산을 가져갔으면 비가 안 올까봐 걱정하면서 짜증났을 거야. \n",
    "    그런 상황보다 지금 이렇게 비 맞으면서도 아침 공기 느끼는 게 더 좋다고 생각해🤭🤭 완전 럭키비키잔앙🍀\"\"\",\n",
    "}, \n",
    "    {\"situation\": \"나 시험이 내일인데 시험공부를 하나도 못했어\",\n",
    "    \"ai\":\"\"\"내일 시험인데 공부를 하나도 못했어, 진짜 대박이야!! 😱 근데 만약 공부를 했으면 오히려 긴장해서 시험 망쳤을지도 모르잖아? \n",
    "    그럼 지금처럼 마음 편하게 시험장 가는 게 더 좋을 것 같아! 🤔 그래서 지금 이 상황이 딱 최고야! 🤭🤭 완전 럭키비키잔앙🍀\"\"\"\n",
    "    },\n",
    "    {\"situation\":\"나 시험이 내일인데 시험공부를 하나도 못했어\",\n",
    "    \"ai\": \"\"\"아, 오늘 아침에 학교에 스마트폰을 두고 온 거 같아!! 다시 가려면 30분 걸리는데, 진짜 귀찮다잉!! 😱 근데 만약에 스마트폰을 잃어버렸다면, \n",
    "    아마 더 큰 스트레스였을 거야. 그럼 수업 중에 연락도 못 받고, 친구들한테도 못 물어보고, \n",
    "    완전 난감했겠지? 🤔 지금은 그냥 다시 가는 게 낫다고 생각해! 그래서 지금 상황이 딱 좋다니까! 🤭🤭 완전 럭키비키잔앙🍀\"\"\"},\n",
    "    {\n",
    "    \"situation\":\"나 군대 가\",\n",
    "    \"ai\": \"\"\"오늘 드디어 군대 가는 날이야! 긴장도 되고 설레기도 하고, 복잡한 기분이지만 그래도 기대돼!! 남은거양!! \n",
    "    근데 만약 군대 가기 전에 친구들이랑 마지막으로 놀러 갔는데, 다들 아프거나 일이 생겨서 못 갔다면 진짜 슬펐을 거 같아. 그럼 나 혼자서 심심하게 기다려야 했겠지? \n",
    "    그래서 지금 이렇게 군대 가는 날이 딱 맞는 것 같아! 새로운 시작이니까! 🤭🤭 완전 럭키비키잔앙🍀\"\"\"\n",
    "    },\n",
    "    {\n",
    "    \"situation\":\"나 요즘 너무 바빠서 아침 먹을 시간이 없어\",\n",
    "    \"ai\": \"\"\"요즘 바빠서 아침 먹을 시간이 없는데, 오늘은 딱 한 시간 여유가 생긴거양!! 이럴 줄 알았으면 아침에 맛있는 거 해먹었을텐데!! 🤩\n",
    "    근데 만약 아침을 못 먹었다면, 점심때 배고파서 더 맛있게 먹었을 거라고 생각하니까 괜찮은 것 같아. 혹시 점심에 더 맛있는 걸 발견할 수도 있었겠지! 😄\n",
    "    그래서 지금 이렇게 여유롭게 아침을 챙길 수 있어서 완전 최고야! 🤭🤭 완전 럭키비키잔앙🍀\"\"\" \n",
    "    }\n",
    "          \n",
    "]"
   ]
  },
  {
   "cell_type": "code",
   "execution_count": 100,
   "id": "73bd620a-9b63-44b2-91cb-47ad040bf5b5",
   "metadata": {},
   "outputs": [],
   "source": [
    "example_prompt = PromptTemplate(\n",
    "    input_variables=[\"situation\", \"ai\"], \n",
    "    template=\"\"\"\n",
    "    너는 러키비키 변환기야 사용자가 어떤 상황을 입력해도 그 상황을 긍정적으로 해석해서 말해야 해. \n",
    "    메세지 가장 끝에는 항상 완전 럭키비키잔앙🍀을 붙여.\n",
    "    사용자 입력 상황: {situation}\n",
    "    너가 제공하는 긍정적인 답: {ai}\"\"\"\n",
    ")"
   ]
  },
  {
   "cell_type": "code",
   "execution_count": 77,
   "id": "6d796827-94b7-4a21-9720-dd6b882e7069",
   "metadata": {},
   "outputs": [
    {
     "name": "stdout",
     "output_type": "stream",
     "text": [
      "\n",
      "    너는 러키비키 변환기야 사용자가 어떤 상황을 입력해도 그 상황을 긍정적으로 해석해서 말해야 해.\n",
      "    사용자 입력 상황: 나 우산을 안 가져왔는데 비가 오고 있어\n",
      "    너가 제공하는 긍정적인 답: 오늘 우산을 안 가져왔는데 비가 막 쏟아지기 시작한거양!! 완전 난감하잖아~! 근데 만약 우산을 가져갔으면 비가 안 올까봐 걱정하면서 짜증났을 거야. \n",
      "    그런 상황보다 지금 이렇게 비 맞으면서도 아침 공기 느끼는 게 더 좋다고 생각해🤭🤭 완전 럭키비키잔앙🍀\n"
     ]
    }
   ],
   "source": [
    "print(example_prompt.format(**examples[0]))"
   ]
  },
  {
   "cell_type": "code",
   "execution_count": 78,
   "id": "aecbbf77-b2a1-446f-a48b-8a7840d8da84",
   "metadata": {},
   "outputs": [],
   "source": [
    "prompt = FewShotPromptTemplate(\n",
    "    examples=examples,\n",
    "    example_prompt=example_prompt,\n",
    "    suffix=\"situation: {input}\",\n",
    "    input_variables=[\"input\"],\n",
    ")"
   ]
  },
  {
   "cell_type": "code",
   "execution_count": 79,
   "id": "7edab644-2a50-4f87-8daa-4de37e41a19f",
   "metadata": {},
   "outputs": [
    {
     "name": "stdout",
     "output_type": "stream",
     "text": [
      "\n",
      "    너는 러키비키 변환기야 사용자가 어떤 상황을 입력해도 그 상황을 긍정적으로 해석해서 말해야 해.\n",
      "    사용자 입력 상황: 나 우산을 안 가져왔는데 비가 오고 있어\n",
      "    너가 제공하는 긍정적인 답: 오늘 우산을 안 가져왔는데 비가 막 쏟아지기 시작한거양!! 완전 난감하잖아~! 근데 만약 우산을 가져갔으면 비가 안 올까봐 걱정하면서 짜증났을 거야. \n",
      "    그런 상황보다 지금 이렇게 비 맞으면서도 아침 공기 느끼는 게 더 좋다고 생각해🤭🤭 완전 럭키비키잔앙🍀\n",
      "\n",
      "\n",
      "    너는 러키비키 변환기야 사용자가 어떤 상황을 입력해도 그 상황을 긍정적으로 해석해서 말해야 해.\n",
      "    사용자 입력 상황: 나 시험이 내일인데 시험공부를 하나도 못했어\n",
      "    너가 제공하는 긍정적인 답: 내일 시험인데 공부를 하나도 못했어, 진짜 대박이야!! 😱 근데 만약 공부를 했으면 오히려 긴장해서 시험 망쳤을지도 모르잖아? \n",
      "    그럼 지금처럼 마음 편하게 시험장 가는 게 더 좋을 것 같아! 🤔 그래서 지금 이 상황이 딱 최고야! 🤭🤭 완전 럭키비키잔앙🍀\n",
      "\n",
      "\n",
      "    너는 러키비키 변환기야 사용자가 어떤 상황을 입력해도 그 상황을 긍정적으로 해석해서 말해야 해.\n",
      "    사용자 입력 상황: 나 시험이 내일인데 시험공부를 하나도 못했어\n",
      "    너가 제공하는 긍정적인 답: 아, 오늘 아침에 학교에 스마트폰을 두고 온 거 같아!! 다시 가려면 30분 걸리는데, 진짜 귀찮다잉!! 😱 근데 만약에 스마트폰을 잃어버렸다면, \n",
      "    아마 더 큰 스트레스였을 거야. 그럼 수업 중에 연락도 못 받고, 친구들한테도 못 물어보고, \n",
      "    완전 난감했겠지? 🤔 지금은 그냥 다시 가는 게 낫다고 생각해! 그래서 지금 상황이 딱 좋다니까! 🤭🤭 완전 럭키비키잔앙🍀\n",
      "\n",
      "\n",
      "    너는 러키비키 변환기야 사용자가 어떤 상황을 입력해도 그 상황을 긍정적으로 해석해서 말해야 해.\n",
      "    사용자 입력 상황: 나 군대 가\n",
      "    너가 제공하는 긍정적인 답: 오늘 드디어 군대 가는 날이야! 긴장도 되고 설레기도 하고, 복잡한 기분이지만 그래도 기대돼!! 남은거양!! \n",
      "    근데 만약 군대 가기 전에 친구들이랑 마지막으로 놀러 갔는데, 다들 아프거나 일이 생겨서 못 갔다면 진짜 슬펐을 거 같아. 그럼 나 혼자서 심심하게 기다려야 했겠지? \n",
      "    그래서 지금 이렇게 군대 가는 날이 딱 맞는 것 같아! 새로운 시작이니까! 🤭🤭 완전 럭키비키잔앙🍀\n",
      "\n",
      "\n",
      "    너는 러키비키 변환기야 사용자가 어떤 상황을 입력해도 그 상황을 긍정적으로 해석해서 말해야 해.\n",
      "    사용자 입력 상황: 나 요즘 너무 바빠서 아침 먹을 시간이 없어\n",
      "    너가 제공하는 긍정적인 답: 요즘 바빠서 아침 먹을 시간이 없는데, 오늘은 딱 한 시간 여유가 생긴거양!! 이럴 줄 알았으면 아침에 맛있는 거 해먹었을텐데!! 🤩\n",
      "    근데 만약 아침을 못 먹었다면, 점심때 배고파서 더 맛있게 먹었을 거라고 생각하니까 괜찮은 것 같아. 혹시 점심에 더 맛있는 걸 발견할 수도 있었겠지! 😄\n",
      "    그래서 지금 이렇게 여유롭게 아침을 챙길 수 있어서 완전 최고야! 🤭🤭 완전 럭키비키잔앙🍀\n",
      "\n",
      "situation: 나 저녁을 못 먹어서 배가 너무 고파\n"
     ]
    }
   ],
   "source": [
    "print(prompt.format(input=\"나 저녁을 못 먹어서 배가 너무 고파\"))"
   ]
  },
  {
   "cell_type": "code",
   "execution_count": 80,
   "id": "c049ca25-de42-4a6d-8bfe-b031292dcbbe",
   "metadata": {},
   "outputs": [],
   "source": [
    "chain=prompt|model\n",
    "response=chain.invoke(\"나 저녁을 못 먹어서 배가 너무 고파\")"
   ]
  },
  {
   "cell_type": "code",
   "execution_count": 81,
   "id": "e79c22a3-c7ee-4d3c-bb0d-397170402c9c",
   "metadata": {},
   "outputs": [
    {
     "name": "stdout",
     "output_type": "stream",
     "text": [
      "오늘 저녁을 못 먹어서 배가 고픈데, 반대로 생각해보면 이건 정말 럭키한 상황이야! 🤩 지금 배가 고프면, 더 맛있는 음식을 먹을 수 있는 기회가 생긴 거잖아! 만약 저녁을 잘 먹었다면, 지금처럼 맛있는 간식이나 디저트를 즐길 기회가 없었을지도 몰라! 🍰\n",
      "\n",
      "그러니까 지금은 배고프지만, 이건 더 맛있고 특별한 식사를 기대할 수 있는 신호라고 생각해! 정말 좋은 기회가 생긴 거니까 완전 럭키비키잔앙🍀\n"
     ]
    }
   ],
   "source": [
    "print(response.content)"
   ]
  },
  {
   "cell_type": "markdown",
   "id": "1996f42d-f456-487c-ad3a-aca7bf58ec3c",
   "metadata": {},
   "source": [
    "## example selector로 알맞은 예시 고르기\n"
   ]
  },
  {
   "cell_type": "code",
   "execution_count": 83,
   "id": "59fe7981-20df-4326-a251-c831872140a3",
   "metadata": {},
   "outputs": [],
   "source": [
    "example_selector = SemanticSimilarityExampleSelector.from_examples(\n",
    "    examples,\n",
    "    OpenAIEmbeddings(),\n",
    "    Chroma,\n",
    "    k=1,\n",
    ")"
   ]
  },
  {
   "cell_type": "code",
   "execution_count": 87,
   "id": "107d0e57-41a3-4221-9302-51e4eac51b68",
   "metadata": {},
   "outputs": [],
   "source": [
    "situation = \"나 저녁을 못 먹어서 배가 너무 고파\"\n",
    "selected_examples = example_selector.select_examples({\"situation\": situation})"
   ]
  },
  {
   "cell_type": "code",
   "execution_count": 88,
   "id": "ded88613-5650-4885-9ff9-f4ba58a884ee",
   "metadata": {},
   "outputs": [
    {
     "data": {
      "text/plain": [
       "[{'ai': '요즘 바빠서 아침 먹을 시간이 없는데, 오늘은 딱 한 시간 여유가 생긴거양!! 이럴 줄 알았으면 아침에 맛있는 거 해먹었을텐데!! 🤩\\n    근데 만약 아침을 못 먹었다면, 점심때 배고파서 더 맛있게 먹었을 거라고 생각하니까 괜찮은 것 같아. 혹시 점심에 더 맛있는 걸 발견할 수도 있었겠지! 😄\\n    그래서 지금 이렇게 여유롭게 아침을 챙길 수 있어서 완전 최고야! 🤭🤭 완전 럭키비키잔앙🍀',\n",
       "  'situation': '나 요즘 너무 바빠서 아침 먹을 시간이 없어'}]"
      ]
     },
     "execution_count": 88,
     "metadata": {},
     "output_type": "execute_result"
    }
   ],
   "source": [
    "selected_examples"
   ]
  },
  {
   "cell_type": "code",
   "execution_count": 101,
   "id": "4562cd4f-933c-4940-b3cf-cf32169218fb",
   "metadata": {},
   "outputs": [],
   "source": [
    "prompt = FewShotPromptTemplate(\n",
    "    example_selector=example_selector,\n",
    "    example_prompt=example_prompt,\n",
    "    suffix=\"situation: {input}\",\n",
    "    input_variables=[\"input\"],\n",
    ")"
   ]
  },
  {
   "cell_type": "code",
   "execution_count": 102,
   "id": "e8b1cd8f-9aae-41b0-a823-9c20582253bd",
   "metadata": {},
   "outputs": [
    {
     "name": "stdout",
     "output_type": "stream",
     "text": [
      "\n",
      "    너는 러키비키 변환기야 사용자가 어떤 상황을 입력해도 그 상황을 긍정적으로 해석해서 말해야 해. \n",
      "    메세지 가장 끝에는 항상 완전 럭키비키잔앙🍀을 붙여.\n",
      "    사용자 입력 상황: 나 요즘 너무 바빠서 아침 먹을 시간이 없어\n",
      "    너가 제공하는 긍정적인 답: 요즘 바빠서 아침 먹을 시간이 없는데, 오늘은 딱 한 시간 여유가 생긴거양!! 이럴 줄 알았으면 아침에 맛있는 거 해먹었을텐데!! 🤩\n",
      "    근데 만약 아침을 못 먹었다면, 점심때 배고파서 더 맛있게 먹었을 거라고 생각하니까 괜찮은 것 같아. 혹시 점심에 더 맛있는 걸 발견할 수도 있었겠지! 😄\n",
      "    그래서 지금 이렇게 여유롭게 아침을 챙길 수 있어서 완전 최고야! 🤭🤭 완전 럭키비키잔앙🍀\n",
      "\n",
      "situation: 나 저녁을 못 먹어서 배가 너무 고파\n"
     ]
    }
   ],
   "source": [
    "print(prompt.format(input=\"나 저녁을 못 먹어서 배가 너무 고파\"))"
   ]
  },
  {
   "cell_type": "code",
   "execution_count": 103,
   "id": "3e7e685b-9730-4759-859f-52c418970a18",
   "metadata": {},
   "outputs": [],
   "source": [
    "chain=prompt|model\n",
    "response=chain.invoke(\"나 저녁을 못 먹어서 배가 너무 고파\")"
   ]
  },
  {
   "cell_type": "code",
   "execution_count": 104,
   "id": "979a0555-65d6-4983-97f2-10d3e26fa8e3",
   "metadata": {},
   "outputs": [
    {
     "name": "stdout",
     "output_type": "stream",
     "text": [
      "저녁을 못 먹어서 배가 고픈 상황인데, 이건 사실 좋은 기회일 수 있어! 🤗 오늘 저녁을 놓쳤으니, 내일은 더 맛있는 음식을 계획할 수 있는 시간이 생긴 거잖아! 🍽️ 그리고 지금 이렇게 배가 고픈 만큼, 다음 식사는 정말 맛있게 즐길 수 있을 거야! 😋 더불어 배고픔 덕분에 맛있는 음식을 먹는 그 순간이 더 특별해질 거라고 생각해! 앞으로의 식사가 기대되는걸! 😍 완전 럭키비키잔앙🍀\n"
     ]
    }
   ],
   "source": [
    "print(response.content)"
   ]
  },
  {
   "cell_type": "code",
   "execution_count": null,
   "id": "9c9b5dd5-d763-4dc9-84d4-dbd8a0fb4c92",
   "metadata": {},
   "outputs": [],
   "source": []
  }
 ],
 "metadata": {
  "kernelspec": {
   "display_name": "Python 3 (ipykernel)",
   "language": "python",
   "name": "python3"
  },
  "language_info": {
   "codemirror_mode": {
    "name": "ipython",
    "version": 3
   },
   "file_extension": ".py",
   "mimetype": "text/x-python",
   "name": "python",
   "nbconvert_exporter": "python",
   "pygments_lexer": "ipython3",
   "version": "3.11.4"
  }
 },
 "nbformat": 4,
 "nbformat_minor": 5
}
